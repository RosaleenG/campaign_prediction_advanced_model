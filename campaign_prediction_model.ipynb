{
 "cells": [
  {
   "cell_type": "code",
   "execution_count": 3,
   "metadata": {},
   "outputs": [
    {
     "data": {
      "text/plain": [
       "'\\nKickstarter is a crowdfunding platform with a community of more than 10 million people comprising of creative, tech enthusiasts \\nwho help in bringing new projects to life.\\n\\nUntil now, more than $3 billion dollars have been contributed by the members in fueling creative projects. The projects can be \\nliterally anything – a device, a game, an app, a film etc.\\n\\nKickstarter works on all or nothing basis: a campaign is launched with a certain amount they want to raise, if it doesn’t meet \\nits goal, the project owner gets nothing. For example: if a projects’s goal is $5000. Even if it gets funded till $4999, the \\nproject won’t be a success.\\n\\nIf you have a project that you would like to post on Kickstarter now, can you predict whether it will be successfully funded or\\nnot? Looking into the dataset, what useful information can you extract from it, which variables are informative for your \\nprediction and can you interpret the model?\\n\\nThe goal of this project is to build a classifier to predict whether a project will be successfully funded or not. You can \\nuse the algorithm of your choice.\\n\\nNotes on the dataset:\\n\\nThe target, state corresponds to a binary outcome: 0 for failed, 1 for successful.\\nThe variables \\'deadline\\'\\', \\'created_at\\', \\'launched_at\\' are stored in Unix time format.\\n\\nGet the data\\nThe data provided consists of X_train.csv and y_train.csv that contain the data you have available for training.\\n\\nIn a notebook, simply run:\\n\\nimport pandas as pd\\n\\nX_train = pd.read_csv(\"data/X_train.csv\")\\ny_train = pd.read_csv(\"data/y_train.csv\")\\nto load the dataset.\\n\\nWe also provide a X_test.csv that you can use to make sure your model generates predictions properly.\\n\\nStart working\\nYou will need to implement the function build_model in model.py. This should return a model as a scikit-learn Pipeline \\nobject where the first stage is a transformer called preprocessor and the second stage a predictive model called model. \\nYou can then use the run.py to train your model and save its state to a file.\\n\\npython run.py train\\nWill train your model on the training set and save it as a pickle file.\\n\\npython run.py test\\nCan be used locally to generate some dummy predictions on X_test and make sure your model works.\\n'"
      ]
     },
     "execution_count": 3,
     "metadata": {},
     "output_type": "execute_result"
    }
   ],
   "source": [
    "\"\"\"\n",
    "Kickstarter is a crowdfunding platform with a community of more than 10 million people comprising of creative, tech enthusiasts \n",
    "who help in bringing new projects to life.\n",
    "\n",
    "Until now, more than $3 billion dollars have been contributed by the members in fueling creative projects. The projects can be \n",
    "literally anything – a device, a game, an app, a film etc.\n",
    "\n",
    "Kickstarter works on all or nothing basis: a campaign is launched with a certain amount they want to raise, if it doesn’t meet \n",
    "its goal, the project owner gets nothing. For example: if a projects’s goal is $5000. Even if it gets funded till $4999, the \n",
    "project won’t be a success.\n",
    "\n",
    "If you have a project that you would like to post on Kickstarter now, can you predict whether it will be successfully funded or\n",
    "not? Looking into the dataset, what useful information can you extract from it, which variables are informative for your \n",
    "prediction and can you interpret the model?\n",
    "\n",
    "The goal of this project is to build a classifier to predict whether a project will be successfully funded or not. You can \n",
    "use the algorithm of your choice.\n",
    "\n",
    "Notes on the dataset:\n",
    "\n",
    "The target, state corresponds to a binary outcome: 0 for failed, 1 for successful.\n",
    "The variables 'deadline'', 'created_at', 'launched_at' are stored in Unix time format.\n",
    "\n",
    "Get the data\n",
    "The data provided consists of X_train.csv and y_train.csv that contain the data you have available for training.\n",
    "\n",
    "In a notebook, simply run:\n",
    "\n",
    "import pandas as pd\n",
    "\n",
    "X_train = pd.read_csv(\"data/X_train.csv\")\n",
    "y_train = pd.read_csv(\"data/y_train.csv\")\n",
    "to load the dataset.\n",
    "\n",
    "We also provide a X_test.csv that you can use to make sure your model generates predictions properly.\n",
    "\n",
    "Start working\n",
    "You will need to implement the function build_model in model.py. This should return a model as a scikit-learn Pipeline \n",
    "object where the first stage is a transformer called preprocessor and the second stage a predictive model called model. \n",
    "You can then use the run.py to train your model and save its state to a file.\n",
    "\n",
    "python run.py train\n",
    "Will train your model on the training set and save it as a pickle file.\n",
    "\n",
    "python run.py test\n",
    "Can be used locally to generate some dummy predictions on X_test and make sure your model works.\n",
    "\"\"\""
   ]
  },
  {
   "cell_type": "code",
   "execution_count": 4,
   "metadata": {},
   "outputs": [],
   "source": [
    "# Baseline Model\n",
    "# Here is an example of a submission, building a simple logistic regression with only two features: goal_usd (adjusted goal)\n",
    "# and usa (whether the campaign happened in the US)\n",
    "\n",
    "import pandas as pd\n",
    "from sklearn.tree import DecisionTreeClassifier\n",
    "from sklearn.base import BaseEstimator, TransformerMixin\n",
    "from sklearn.pipeline import Pipeline\n"
   ]
  },
  {
   "cell_type": "code",
   "execution_count": 5,
   "metadata": {},
   "outputs": [],
   "source": [
    "class Preprocessor(BaseEstimator, TransformerMixin):\n",
    "    def fit(self, X, y=None):\n",
    "        return self\n",
    "\n",
    "    def transform(self, X, y=None):\n",
    "        is_usa = X[\"country\"] == \"US\"\n",
    "        goal_usd = X[\"goal\"] * X[\"static_usd_rate\"]\n",
    "\n",
    "        return pd.DataFrame({\"is_usa\": is_usa, \"goal_usd\": goal_usd})\n"
   ]
  },
  {
   "cell_type": "code",
   "execution_count": 6,
   "metadata": {},
   "outputs": [],
   "source": [
    "def build_model():\n",
    "\n",
    "    preprocessor = Preprocessor()\n",
    "\n",
    "    model = DecisionTreeClassifier(max_depth=3)\n",
    "    return Pipeline([(\"preprocessor\", preprocessor), (\"model\", model)])"
   ]
  }
 ],
 "metadata": {
  "kernelspec": {
   "display_name": "Python 3",
   "language": "python",
   "name": "python3"
  },
  "language_info": {
   "codemirror_mode": {
    "name": "ipython",
    "version": 3
   },
   "file_extension": ".py",
   "mimetype": "text/x-python",
   "name": "python",
   "nbconvert_exporter": "python",
   "pygments_lexer": "ipython3",
   "version": "3.7.6"
  }
 },
 "nbformat": 4,
 "nbformat_minor": 4
}
